{
  "nbformat": 4,
  "nbformat_minor": 0,
  "metadata": {
    "colab": {
      "provenance": []
    },
    "kernelspec": {
      "name": "python3",
      "display_name": "Python 3"
    },
    "language_info": {
      "name": "python"
    }
  },
  "cells": [
    {
      "cell_type": "code",
      "source": [
        "import pandas as pd\n",
        "from sklearn.model_selection import train_test_split\n",
        "from sklearn.feature_extraction.text import CountVectorizer\n",
        "from nltk.tokenize import TweetTokenizer\n",
        "import re\n",
        "import nltk\n",
        "from nltk.corpus import stopwords\n",
        "nltk.download('stopwords')\n",
        "from nltk.stem.snowball import SnowballStemmer\n",
        "from string import printable\n",
        "from typing import  List\n",
        "from sklearn.linear_model import LogisticRegression\n",
        "from sklearn.metrics import roc_auc_score\n",
        "import numpy as np\n",
        "from sklearn.feature_extraction.text import TfidfVectorizer\n",
        "from sklearn.ensemble import RandomForestClassifier\n",
        "from sklearn.model_selection import RandomizedSearchCV\n",
        "from sklearn.naive_bayes import BernoulliNB\n",
        "from google.colab import drive"
      ],
      "metadata": {
        "id": "jsnTqfSZOaiH",
        "colab": {
          "base_uri": "https://localhost:8080/"
        },
        "outputId": "9e9407ff-fe31-42b6-835a-f321ab7a40be"
      },
      "execution_count": 153,
      "outputs": [
        {
          "output_type": "stream",
          "name": "stderr",
          "text": [
            "[nltk_data] Downloading package stopwords to /root/nltk_data...\n",
            "[nltk_data]   Package stopwords is already up-to-date!\n"
          ]
        }
      ]
    },
    {
      "cell_type": "code",
      "execution_count": 154,
      "metadata": {
        "id": "J67XWazbNSPt"
      },
      "outputs": [],
      "source": [
        "df = pd.read_csv('/content/train_spam.csv') #просто прочитать данные\n",
        "df_test = pd.read_csv('/content/test_spam.csv')"
      ]
    },
    {
      "cell_type": "code",
      "source": [
        "df['text_type'].unique() #посмотреть на флаги спам\\не спам"
      ],
      "metadata": {
        "id": "xeV1HF3LOgk2",
        "colab": {
          "base_uri": "https://localhost:8080/"
        },
        "outputId": "ab7fa357-0c5a-4d24-9523-7a2d44eee5f2"
      },
      "execution_count": 155,
      "outputs": [
        {
          "output_type": "execute_result",
          "data": {
            "text/plain": [
              "array(['ham', 'spam'], dtype=object)"
            ]
          },
          "metadata": {},
          "execution_count": 155
        }
      ]
    },
    {
      "cell_type": "code",
      "source": [
        "df.head()"
      ],
      "metadata": {
        "id": "BCcTr6BEOib3",
        "colab": {
          "base_uri": "https://localhost:8080/",
          "height": 206
        },
        "outputId": "5af13c3a-58d9-4c97-b13e-88a8837a5591"
      },
      "execution_count": 156,
      "outputs": [
        {
          "output_type": "execute_result",
          "data": {
            "text/plain": [
              "  text_type                                               text\n",
              "0       ham  make sure alex knows his birthday is over in f...\n",
              "1       ham  a resume for john lavorato thanks vince i will...\n",
              "2      spam  plzz visit my website moviesgodml to get all m...\n",
              "3      spam  urgent your mobile number has been awarded wit...\n",
              "4       ham  overview of hr associates analyst project per ..."
            ],
            "text/html": [
              "\n",
              "  <div id=\"df-17d7ca94-4995-4563-8a46-cd6dc1a62be7\" class=\"colab-df-container\">\n",
              "    <div>\n",
              "<style scoped>\n",
              "    .dataframe tbody tr th:only-of-type {\n",
              "        vertical-align: middle;\n",
              "    }\n",
              "\n",
              "    .dataframe tbody tr th {\n",
              "        vertical-align: top;\n",
              "    }\n",
              "\n",
              "    .dataframe thead th {\n",
              "        text-align: right;\n",
              "    }\n",
              "</style>\n",
              "<table border=\"1\" class=\"dataframe\">\n",
              "  <thead>\n",
              "    <tr style=\"text-align: right;\">\n",
              "      <th></th>\n",
              "      <th>text_type</th>\n",
              "      <th>text</th>\n",
              "    </tr>\n",
              "  </thead>\n",
              "  <tbody>\n",
              "    <tr>\n",
              "      <th>0</th>\n",
              "      <td>ham</td>\n",
              "      <td>make sure alex knows his birthday is over in f...</td>\n",
              "    </tr>\n",
              "    <tr>\n",
              "      <th>1</th>\n",
              "      <td>ham</td>\n",
              "      <td>a resume for john lavorato thanks vince i will...</td>\n",
              "    </tr>\n",
              "    <tr>\n",
              "      <th>2</th>\n",
              "      <td>spam</td>\n",
              "      <td>plzz visit my website moviesgodml to get all m...</td>\n",
              "    </tr>\n",
              "    <tr>\n",
              "      <th>3</th>\n",
              "      <td>spam</td>\n",
              "      <td>urgent your mobile number has been awarded wit...</td>\n",
              "    </tr>\n",
              "    <tr>\n",
              "      <th>4</th>\n",
              "      <td>ham</td>\n",
              "      <td>overview of hr associates analyst project per ...</td>\n",
              "    </tr>\n",
              "  </tbody>\n",
              "</table>\n",
              "</div>\n",
              "    <div class=\"colab-df-buttons\">\n",
              "\n",
              "  <div class=\"colab-df-container\">\n",
              "    <button class=\"colab-df-convert\" onclick=\"convertToInteractive('df-17d7ca94-4995-4563-8a46-cd6dc1a62be7')\"\n",
              "            title=\"Convert this dataframe to an interactive table.\"\n",
              "            style=\"display:none;\">\n",
              "\n",
              "  <svg xmlns=\"http://www.w3.org/2000/svg\" height=\"24px\" viewBox=\"0 -960 960 960\">\n",
              "    <path d=\"M120-120v-720h720v720H120Zm60-500h600v-160H180v160Zm220 220h160v-160H400v160Zm0 220h160v-160H400v160ZM180-400h160v-160H180v160Zm440 0h160v-160H620v160ZM180-180h160v-160H180v160Zm440 0h160v-160H620v160Z\"/>\n",
              "  </svg>\n",
              "    </button>\n",
              "\n",
              "  <style>\n",
              "    .colab-df-container {\n",
              "      display:flex;\n",
              "      gap: 12px;\n",
              "    }\n",
              "\n",
              "    .colab-df-convert {\n",
              "      background-color: #E8F0FE;\n",
              "      border: none;\n",
              "      border-radius: 50%;\n",
              "      cursor: pointer;\n",
              "      display: none;\n",
              "      fill: #1967D2;\n",
              "      height: 32px;\n",
              "      padding: 0 0 0 0;\n",
              "      width: 32px;\n",
              "    }\n",
              "\n",
              "    .colab-df-convert:hover {\n",
              "      background-color: #E2EBFA;\n",
              "      box-shadow: 0px 1px 2px rgba(60, 64, 67, 0.3), 0px 1px 3px 1px rgba(60, 64, 67, 0.15);\n",
              "      fill: #174EA6;\n",
              "    }\n",
              "\n",
              "    .colab-df-buttons div {\n",
              "      margin-bottom: 4px;\n",
              "    }\n",
              "\n",
              "    [theme=dark] .colab-df-convert {\n",
              "      background-color: #3B4455;\n",
              "      fill: #D2E3FC;\n",
              "    }\n",
              "\n",
              "    [theme=dark] .colab-df-convert:hover {\n",
              "      background-color: #434B5C;\n",
              "      box-shadow: 0px 1px 3px 1px rgba(0, 0, 0, 0.15);\n",
              "      filter: drop-shadow(0px 1px 2px rgba(0, 0, 0, 0.3));\n",
              "      fill: #FFFFFF;\n",
              "    }\n",
              "  </style>\n",
              "\n",
              "    <script>\n",
              "      const buttonEl =\n",
              "        document.querySelector('#df-17d7ca94-4995-4563-8a46-cd6dc1a62be7 button.colab-df-convert');\n",
              "      buttonEl.style.display =\n",
              "        google.colab.kernel.accessAllowed ? 'block' : 'none';\n",
              "\n",
              "      async function convertToInteractive(key) {\n",
              "        const element = document.querySelector('#df-17d7ca94-4995-4563-8a46-cd6dc1a62be7');\n",
              "        const dataTable =\n",
              "          await google.colab.kernel.invokeFunction('convertToInteractive',\n",
              "                                                    [key], {});\n",
              "        if (!dataTable) return;\n",
              "\n",
              "        const docLinkHtml = 'Like what you see? Visit the ' +\n",
              "          '<a target=\"_blank\" href=https://colab.research.google.com/notebooks/data_table.ipynb>data table notebook</a>'\n",
              "          + ' to learn more about interactive tables.';\n",
              "        element.innerHTML = '';\n",
              "        dataTable['output_type'] = 'display_data';\n",
              "        await google.colab.output.renderOutput(dataTable, element);\n",
              "        const docLink = document.createElement('div');\n",
              "        docLink.innerHTML = docLinkHtml;\n",
              "        element.appendChild(docLink);\n",
              "      }\n",
              "    </script>\n",
              "  </div>\n",
              "\n",
              "\n",
              "<div id=\"df-3593b7ca-384f-471d-b40b-0af3703fe7f8\">\n",
              "  <button class=\"colab-df-quickchart\" onclick=\"quickchart('df-3593b7ca-384f-471d-b40b-0af3703fe7f8')\"\n",
              "            title=\"Suggest charts\"\n",
              "            style=\"display:none;\">\n",
              "\n",
              "<svg xmlns=\"http://www.w3.org/2000/svg\" height=\"24px\"viewBox=\"0 0 24 24\"\n",
              "     width=\"24px\">\n",
              "    <g>\n",
              "        <path d=\"M19 3H5c-1.1 0-2 .9-2 2v14c0 1.1.9 2 2 2h14c1.1 0 2-.9 2-2V5c0-1.1-.9-2-2-2zM9 17H7v-7h2v7zm4 0h-2V7h2v10zm4 0h-2v-4h2v4z\"/>\n",
              "    </g>\n",
              "</svg>\n",
              "  </button>\n",
              "\n",
              "<style>\n",
              "  .colab-df-quickchart {\n",
              "      --bg-color: #E8F0FE;\n",
              "      --fill-color: #1967D2;\n",
              "      --hover-bg-color: #E2EBFA;\n",
              "      --hover-fill-color: #174EA6;\n",
              "      --disabled-fill-color: #AAA;\n",
              "      --disabled-bg-color: #DDD;\n",
              "  }\n",
              "\n",
              "  [theme=dark] .colab-df-quickchart {\n",
              "      --bg-color: #3B4455;\n",
              "      --fill-color: #D2E3FC;\n",
              "      --hover-bg-color: #434B5C;\n",
              "      --hover-fill-color: #FFFFFF;\n",
              "      --disabled-bg-color: #3B4455;\n",
              "      --disabled-fill-color: #666;\n",
              "  }\n",
              "\n",
              "  .colab-df-quickchart {\n",
              "    background-color: var(--bg-color);\n",
              "    border: none;\n",
              "    border-radius: 50%;\n",
              "    cursor: pointer;\n",
              "    display: none;\n",
              "    fill: var(--fill-color);\n",
              "    height: 32px;\n",
              "    padding: 0;\n",
              "    width: 32px;\n",
              "  }\n",
              "\n",
              "  .colab-df-quickchart:hover {\n",
              "    background-color: var(--hover-bg-color);\n",
              "    box-shadow: 0 1px 2px rgba(60, 64, 67, 0.3), 0 1px 3px 1px rgba(60, 64, 67, 0.15);\n",
              "    fill: var(--button-hover-fill-color);\n",
              "  }\n",
              "\n",
              "  .colab-df-quickchart-complete:disabled,\n",
              "  .colab-df-quickchart-complete:disabled:hover {\n",
              "    background-color: var(--disabled-bg-color);\n",
              "    fill: var(--disabled-fill-color);\n",
              "    box-shadow: none;\n",
              "  }\n",
              "\n",
              "  .colab-df-spinner {\n",
              "    border: 2px solid var(--fill-color);\n",
              "    border-color: transparent;\n",
              "    border-bottom-color: var(--fill-color);\n",
              "    animation:\n",
              "      spin 1s steps(1) infinite;\n",
              "  }\n",
              "\n",
              "  @keyframes spin {\n",
              "    0% {\n",
              "      border-color: transparent;\n",
              "      border-bottom-color: var(--fill-color);\n",
              "      border-left-color: var(--fill-color);\n",
              "    }\n",
              "    20% {\n",
              "      border-color: transparent;\n",
              "      border-left-color: var(--fill-color);\n",
              "      border-top-color: var(--fill-color);\n",
              "    }\n",
              "    30% {\n",
              "      border-color: transparent;\n",
              "      border-left-color: var(--fill-color);\n",
              "      border-top-color: var(--fill-color);\n",
              "      border-right-color: var(--fill-color);\n",
              "    }\n",
              "    40% {\n",
              "      border-color: transparent;\n",
              "      border-right-color: var(--fill-color);\n",
              "      border-top-color: var(--fill-color);\n",
              "    }\n",
              "    60% {\n",
              "      border-color: transparent;\n",
              "      border-right-color: var(--fill-color);\n",
              "    }\n",
              "    80% {\n",
              "      border-color: transparent;\n",
              "      border-right-color: var(--fill-color);\n",
              "      border-bottom-color: var(--fill-color);\n",
              "    }\n",
              "    90% {\n",
              "      border-color: transparent;\n",
              "      border-bottom-color: var(--fill-color);\n",
              "    }\n",
              "  }\n",
              "</style>\n",
              "\n",
              "  <script>\n",
              "    async function quickchart(key) {\n",
              "      const quickchartButtonEl =\n",
              "        document.querySelector('#' + key + ' button');\n",
              "      quickchartButtonEl.disabled = true;  // To prevent multiple clicks.\n",
              "      quickchartButtonEl.classList.add('colab-df-spinner');\n",
              "      try {\n",
              "        const charts = await google.colab.kernel.invokeFunction(\n",
              "            'suggestCharts', [key], {});\n",
              "      } catch (error) {\n",
              "        console.error('Error during call to suggestCharts:', error);\n",
              "      }\n",
              "      quickchartButtonEl.classList.remove('colab-df-spinner');\n",
              "      quickchartButtonEl.classList.add('colab-df-quickchart-complete');\n",
              "    }\n",
              "    (() => {\n",
              "      let quickchartButtonEl =\n",
              "        document.querySelector('#df-3593b7ca-384f-471d-b40b-0af3703fe7f8 button');\n",
              "      quickchartButtonEl.style.display =\n",
              "        google.colab.kernel.accessAllowed ? 'block' : 'none';\n",
              "    })();\n",
              "  </script>\n",
              "</div>\n",
              "    </div>\n",
              "  </div>\n"
            ],
            "application/vnd.google.colaboratory.intrinsic+json": {
              "type": "dataframe",
              "variable_name": "df",
              "summary": "{\n  \"name\": \"df\",\n  \"rows\": 16278,\n  \"fields\": [\n    {\n      \"column\": \"text_type\",\n      \"properties\": {\n        \"dtype\": \"category\",\n        \"num_unique_values\": 2,\n        \"samples\": [\n          \"spam\",\n          \"ham\"\n        ],\n        \"semantic_type\": \"\",\n        \"description\": \"\"\n      }\n    },\n    {\n      \"column\": \"text\",\n      \"properties\": {\n        \"dtype\": \"string\",\n        \"num_unique_values\": 16267,\n        \"samples\": [\n          \"enron opportunities thanks vince we will follow up with this lsu graduate hope you are doing well regards lynn dunphy vince j kaminski 02 15 2000 08 53 am to lynn dunphy hou ect ect cc vince j kaminski hou ect ect subject enron opportunities lynn i am forwarding you the resume of a very bright and motivated young man who attended a lecture i gave recently at lsu i think we should consider him for an analyst position vinceforwarded by vince j kaminski hou ect on 02 15 2000 08 52 am richard c iles on 09 14 2000 11 14 56 am please respond to richard c iles to cc subject enron opportunities dr kaminski here is my resume and cover letter thanks richard iles enron cover and\",\n          \"biliana s resume geynille i understand you are in charge of recruiting at the uofh i am forwarding to you the resume of one of the students of the university of houston she is involved with the international organization called aiesec and i was most impressed by her organizational skills and professional attitude i used to work as a volunteer for this organization many years ago and i am still helping their local chapter as far as i know she signed up for an interview with enron vince kaminskiforwarded by vince j kaminski hou ect on 09 29 2000 02 13 pm biliana pehlivanova on 09 28 2000 06 02 20 pm to vkamins enron com cc subject biliana s resume mr kaminski thank you for referring me to your recru\"\n        ],\n        \"semantic_type\": \"\",\n        \"description\": \"\"\n      }\n    }\n  ]\n}"
            }
          },
          "metadata": {},
          "execution_count": 156
        }
      ]
    },
    {
      "cell_type": "markdown",
      "source": [
        "> Выглядит так, как будто датасет уже предобработан, потому что в первых строках все с маленькой буквы, нет специальных знаков, цифр или пунктуации"
      ],
      "metadata": {
        "id": "fSXIdRbeSK8i"
      }
    },
    {
      "cell_type": "code",
      "source": [
        "df.isna().sum() #датасет без пропусков :)"
      ],
      "metadata": {
        "id": "HEAV96-DPWf2",
        "colab": {
          "base_uri": "https://localhost:8080/"
        },
        "outputId": "67a4f820-b8db-4253-d303-ba9bfb9d9f10"
      },
      "execution_count": 157,
      "outputs": [
        {
          "output_type": "execute_result",
          "data": {
            "text/plain": [
              "text_type    0\n",
              "text         0\n",
              "dtype: int64"
            ]
          },
          "metadata": {},
          "execution_count": 157
        }
      ]
    },
    {
      "cell_type": "code",
      "source": [
        "df.groupby('text_type').count()['text'] #классы не очень сбалансированные"
      ],
      "metadata": {
        "id": "ozC0GUbJPcWL",
        "colab": {
          "base_uri": "https://localhost:8080/"
        },
        "outputId": "b3695218-7b0b-4567-b919-6c520125f125"
      },
      "execution_count": 158,
      "outputs": [
        {
          "output_type": "execute_result",
          "data": {
            "text/plain": [
              "text_type\n",
              "ham     11469\n",
              "spam     4809\n",
              "Name: text, dtype: int64"
            ]
          },
          "metadata": {},
          "execution_count": 158
        }
      ]
    },
    {
      "cell_type": "code",
      "source": [
        "#разделим на тренировочную и валидационную выборку\n",
        "train, val = train_test_split(df, test_size=0.3, random_state=42, stratify=df['text_type'])\n",
        "#stratify нужен, чтобы классы с правильным распределением попали в выборки"
      ],
      "metadata": {
        "id": "J3ahqIAtlQrA"
      },
      "execution_count": 159,
      "outputs": []
    },
    {
      "cell_type": "markdown",
      "source": [
        "> Для одного из учебных проектов я писала функцию предобработки твитов на английском, здесь она тоже частично подходит"
      ],
      "metadata": {
        "id": "MPTOVHcrV9_1"
      }
    },
    {
      "cell_type": "code",
      "source": [
        "lang = 'english'\n",
        "\n",
        "stopwords_set = set(stopwords.words(lang))\n",
        "stemmer = SnowballStemmer(lang)\n",
        "\n",
        "def contains_only_latin_letters(s: str) -> bool:\n",
        "    # Проверка, содержит ли слово только латинские буквы\n",
        "    return not re.search(r'[^a-zA-Z]', s)\n",
        "\n",
        "def is_emoji(s: str) -> bool:\n",
        "    # Проверка, является ли слово смайликом\n",
        "    return bool(re.search(r'[\\(]+|[\\)]+',s)) & (not bool(re.search(r'[^\\(\\)\\!\\\"\\#\\$\\%\\&\\\\\\'\\*\\+\\,\\-\\.\\/\\:\\;\\<\\=\\>\\?\\@\\[\\\\\\\\\\]\\^\\_\\`\\{\\|\\}\\~]',s)))\n",
        "\n",
        "def is_hashtag(s: str) -> bool:\n",
        "    # Проверка, является ли слово хэштегом\n",
        "    res = False\n",
        "    if s[0]=='#' and len(s)==1:\n",
        "        res = True\n",
        "    elif s[0]=='#' and contains_only_latin_letters(s[1:]):\n",
        "        res = True\n",
        "    return res\n",
        "\n",
        "def is_used(s: str) -> bool:\n",
        "    return ((contains_only_latin_letters(s) or is_emoji(s) or is_hashtag(s)) and s not in stopwords_set)\n",
        "\n",
        "def custom_tokenizer(s: str) -> List[str]:\n",
        "    # Кастомный токенайзер\n",
        "    tk = TweetTokenizer()\n",
        "    words = filter(is_used, tk.tokenize(s.lower()))\n",
        "    stemmed = [stemmer.stem(w) for w in words]\n",
        "    return (stemmed)"
      ],
      "metadata": {
        "id": "fJzFEZAJUfRF"
      },
      "execution_count": 160,
      "outputs": []
    },
    {
      "cell_type": "code",
      "source": [
        "#теперь нужно применить токенизатор с написанной выше функцией к тренировочным и тестовым данным\n",
        "vectorizer = CountVectorizer(tokenizer = custom_tokenizer )\n",
        "X = vectorizer.fit_transform(train['text'])\n",
        "y = vectorizer.transform(val['text'])"
      ],
      "metadata": {
        "id": "2jSrl3MdWq1u",
        "colab": {
          "base_uri": "https://localhost:8080/"
        },
        "outputId": "a221cd96-b004-45ad-c389-82fcc7b6d86f"
      },
      "execution_count": 161,
      "outputs": [
        {
          "output_type": "stream",
          "name": "stderr",
          "text": [
            "/usr/local/lib/python3.10/dist-packages/sklearn/feature_extraction/text.py:528: UserWarning: The parameter 'token_pattern' will not be used since 'tokenizer' is not None'\n",
            "  warnings.warn(\n"
          ]
        }
      ]
    },
    {
      "cell_type": "markdown",
      "source": [
        "> Так как у нас задача бинарной классификации, можно попробовать использовать логистическую регрессию в качестве бейзлайна, потом случайный лес и еще наивный байесовский классификатор (он раньше часто использовался для классификации спама)"
      ],
      "metadata": {
        "id": "hitrHJCxXpe_"
      }
    },
    {
      "cell_type": "code",
      "source": [
        "#попробуем обучить логрег\n",
        "clf = LogisticRegression(max_iter=200, random_state=42)\n",
        "clf.fit(X, train['text_type'])\n",
        "roc_auc_score(val['text_type'], clf.predict_proba(y)[:, 1])"
      ],
      "metadata": {
        "id": "RtnEjPk1XGws",
        "colab": {
          "base_uri": "https://localhost:8080/"
        },
        "outputId": "af8661af-1d9c-4aee-f5ab-ce9fa57d5b6a"
      },
      "execution_count": 162,
      "outputs": [
        {
          "output_type": "execute_result",
          "data": {
            "text/plain": [
              "0.9680445316888211"
            ]
          },
          "metadata": {},
          "execution_count": 162
        }
      ]
    },
    {
      "cell_type": "code",
      "source": [
        "np.unique(clf.predict(y), return_counts=True)"
      ],
      "metadata": {
        "id": "j-kpAXVOZxUD",
        "colab": {
          "base_uri": "https://localhost:8080/"
        },
        "outputId": "9aa231b0-e2ca-4d2e-c575-9762737a0416"
      },
      "execution_count": 163,
      "outputs": [
        {
          "output_type": "execute_result",
          "data": {
            "text/plain": [
              "(array(['ham', 'spam'], dtype=object), array([3615, 1269]))"
            ]
          },
          "metadata": {},
          "execution_count": 163
        }
      ]
    },
    {
      "cell_type": "markdown",
      "source": [
        "> Качество уже достаточно высокое, и модель не выдает чисто константное предсказание, распределение классов чем-то напоминает исходный датасет"
      ],
      "metadata": {
        "id": "PfKHtsEubTXj"
      }
    },
    {
      "cell_type": "code",
      "source": [
        "#попробуем другой токенайзер, который тоже часто используется для текстов\n",
        "tfidf_vec = TfidfVectorizer(tokenizer = custom_tokenizer)\n",
        "X_tf = tfidf_vec.fit_transform(train['text'])\n",
        "y_tf = tfidf_vec.transform(val['text'])"
      ],
      "metadata": {
        "id": "Wb6ZsShRao9f",
        "colab": {
          "base_uri": "https://localhost:8080/"
        },
        "outputId": "d03a7609-b488-423d-a4b8-1b1f8eef189b"
      },
      "execution_count": 164,
      "outputs": [
        {
          "output_type": "stream",
          "name": "stderr",
          "text": [
            "/usr/local/lib/python3.10/dist-packages/sklearn/feature_extraction/text.py:528: UserWarning: The parameter 'token_pattern' will not be used since 'tokenizer' is not None'\n",
            "  warnings.warn(\n"
          ]
        }
      ]
    },
    {
      "cell_type": "code",
      "source": [
        "#снова обучим модель логистической регрессии\n",
        "clf_tf = LogisticRegression(max_iter=200, random_state=42)\n",
        "clf_tf.fit(X_tf, train['text_type'])\n",
        "roc_auc_score(val['text_type'], clf_tf.predict_proba(y_tf)[:, 1])"
      ],
      "metadata": {
        "id": "CK0ZKUdlbvHB",
        "colab": {
          "base_uri": "https://localhost:8080/"
        },
        "outputId": "66a5671e-409a-440a-a865-0e2baf886a52"
      },
      "execution_count": 165,
      "outputs": [
        {
          "output_type": "execute_result",
          "data": {
            "text/plain": [
              "0.9679396048184191"
            ]
          },
          "metadata": {},
          "execution_count": 165
        }
      ]
    },
    {
      "cell_type": "code",
      "source": [
        "np.unique(clf_tf.predict(y_tf), return_counts=True)"
      ],
      "metadata": {
        "id": "SYiAgu-xjNXz",
        "colab": {
          "base_uri": "https://localhost:8080/"
        },
        "outputId": "9d9c2dcb-6193-4bad-e8c0-7cad5e23faa0"
      },
      "execution_count": 166,
      "outputs": [
        {
          "output_type": "execute_result",
          "data": {
            "text/plain": [
              "(array(['ham', 'spam'], dtype=object), array([3678, 1206]))"
            ]
          },
          "metadata": {},
          "execution_count": 166
        }
      ]
    },
    {
      "cell_type": "markdown",
      "source": [
        "> Качество понизилось, но это может быть связано со спецификой токенизатора, потому что он опирается не только на обучающую выборку"
      ],
      "metadata": {
        "id": "5ZK7q6rrcIC7"
      }
    },
    {
      "cell_type": "code",
      "source": [
        "#теперь попробуем обучить Random Forest и подобрать к нему гиперпараметры"
      ],
      "metadata": {
        "id": "Nrr0UqfTcBdl"
      },
      "execution_count": 167,
      "outputs": []
    },
    {
      "cell_type": "code",
      "source": [
        "param_grid = {\n",
        "    'n_estimators': [25, 50, 100],\n",
        "    'max_features': ['sqrt', 'log2'],\n",
        "    'max_depth': [2, 4, 6],\n",
        "    'max_leaf_nodes': [2, 4, 6],\n",
        "}"
      ],
      "metadata": {
        "id": "391QiAweeHNw"
      },
      "execution_count": 168,
      "outputs": []
    },
    {
      "cell_type": "code",
      "source": [
        "random_search = RandomizedSearchCV(RandomForestClassifier(),\n",
        "                                   param_grid)\n",
        "random_search.fit(X, train['text_type']) #используем первый токенизатор\n",
        "print(random_search.best_estimator_)"
      ],
      "metadata": {
        "id": "NAScv4yHeZLl",
        "colab": {
          "base_uri": "https://localhost:8080/"
        },
        "outputId": "2a27adbb-3fc6-4dc1-e399-faefaa6a29aa"
      },
      "execution_count": 169,
      "outputs": [
        {
          "output_type": "stream",
          "name": "stdout",
          "text": [
            "RandomForestClassifier(max_depth=2, max_features='log2', max_leaf_nodes=2,\n",
            "                       n_estimators=25)\n"
          ]
        }
      ]
    },
    {
      "cell_type": "code",
      "source": [
        "rf = RandomForestClassifier(n_estimators=50, max_depth=6, max_leaf_nodes=6)\n",
        "rf.fit(X, train['text_type'])\n",
        "roc_auc_score(val['text_type'], rf.predict_proba(y)[:, 1])"
      ],
      "metadata": {
        "id": "bXv7LHjlejVk",
        "colab": {
          "base_uri": "https://localhost:8080/"
        },
        "outputId": "28ada61a-95de-4f8f-999b-2780b6762eb6"
      },
      "execution_count": 170,
      "outputs": [
        {
          "output_type": "execute_result",
          "data": {
            "text/plain": [
              "0.8973126436073254"
            ]
          },
          "metadata": {},
          "execution_count": 170
        }
      ]
    },
    {
      "cell_type": "code",
      "source": [
        "np.unique(rf.predict(y), return_counts=True)"
      ],
      "metadata": {
        "id": "44Cw0oOIfPzd",
        "colab": {
          "base_uri": "https://localhost:8080/"
        },
        "outputId": "d967b5a8-9954-40b8-cf53-daa8129b0dd8"
      },
      "execution_count": 171,
      "outputs": [
        {
          "output_type": "execute_result",
          "data": {
            "text/plain": [
              "(array(['ham'], dtype=object), array([4884]))"
            ]
          },
          "metadata": {},
          "execution_count": 171
        }
      ]
    },
    {
      "cell_type": "markdown",
      "source": [
        "> Эта модель очень плохо предсказывает спам, ее точно не стоит использовать"
      ],
      "metadata": {
        "id": "CA17DKEgn3hM"
      }
    },
    {
      "cell_type": "code",
      "source": [
        "#обучим байесовский классификатор\n",
        "bnb = BernoulliNB()\n",
        "bnb.fit(X, train['text_type'])\n",
        "roc_auc_score(val['text_type'], bnb.predict_proba(y)[:, 1])"
      ],
      "metadata": {
        "id": "QBrz2iNnjGJZ",
        "colab": {
          "base_uri": "https://localhost:8080/"
        },
        "outputId": "3904509a-1d7d-4bc0-9784-dc04cb2ab5ad"
      },
      "execution_count": 172,
      "outputs": [
        {
          "output_type": "execute_result",
          "data": {
            "text/plain": [
              "0.9692365895504519"
            ]
          },
          "metadata": {},
          "execution_count": 172
        }
      ]
    },
    {
      "cell_type": "code",
      "source": [
        "np.unique(bnb.predict(y), return_counts=True)"
      ],
      "metadata": {
        "id": "z954OyrSor2K",
        "colab": {
          "base_uri": "https://localhost:8080/"
        },
        "outputId": "c5d0b659-9d43-4fc5-a41c-1acc0a6cf31b"
      },
      "execution_count": 173,
      "outputs": [
        {
          "output_type": "execute_result",
          "data": {
            "text/plain": [
              "(array(['ham', 'spam'], dtype='<U4'), array([3646, 1238]))"
            ]
          },
          "metadata": {},
          "execution_count": 173
        }
      ]
    },
    {
      "cell_type": "markdown",
      "source": [
        "> Как и требовалось ожидать, эта модель оказалась самой лучшей, все-таки не зря ее раньше часто использовали для классификации спама"
      ],
      "metadata": {
        "id": "yaEMWp_toxl2"
      }
    },
    {
      "cell_type": "code",
      "source": [
        "bnb.classes_ #получается в итоговый датасет я запишу только вторую вероятность принадлежности к спаму"
      ],
      "metadata": {
        "id": "z6HeS-2txwzz",
        "colab": {
          "base_uri": "https://localhost:8080/"
        },
        "outputId": "8d275e48-a6ee-47ea-ad07-324b2591eb07"
      },
      "execution_count": 174,
      "outputs": [
        {
          "output_type": "execute_result",
          "data": {
            "text/plain": [
              "array(['ham', 'spam'], dtype='<U4')"
            ]
          },
          "metadata": {},
          "execution_count": 174
        }
      ]
    },
    {
      "cell_type": "code",
      "source": [
        "#посчитаем скоры соответствия спаму с помощью байесовского классификатора для тестовой выборки и сохраним в csv\n",
        "y_test = vectorizer.transform(df_test['text'])\n",
        "df_test['score'] = bnb.predict_proba(y_test)[:, 1]"
      ],
      "metadata": {
        "id": "CRz3EcTUotR3"
      },
      "execution_count": 175,
      "outputs": []
    },
    {
      "cell_type": "code",
      "source": [
        "drive.mount('/content/drive', force_remount = True)\n",
        "df_test.to_csv('/content/drive/My Drive/results.csv', index=False)"
      ],
      "metadata": {
        "colab": {
          "base_uri": "https://localhost:8080/"
        },
        "id": "dMsnCoZ9wVEl",
        "outputId": "8994ceff-7fa8-40ba-9a02-873d42fef865"
      },
      "execution_count": 177,
      "outputs": [
        {
          "output_type": "stream",
          "name": "stdout",
          "text": [
            "Mounted at /content/drive\n"
          ]
        }
      ]
    }
  ]
}